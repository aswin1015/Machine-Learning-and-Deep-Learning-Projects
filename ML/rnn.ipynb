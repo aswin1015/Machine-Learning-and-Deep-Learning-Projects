{
 "cells": [
  {
   "cell_type": "code",
   "execution_count": 12,
   "id": "e010e5ee-a723-4442-b115-ebdebb5c6e4a",
   "metadata": {},
   "outputs": [],
   "source": [
    "import tensorflow as tf\n",
    "import numpy as np\n",
    "from keras import models,layers,optimizers\n",
    "from keras.layers import LSTM, Embedding\n",
    "from keras.datasets import imdb\n",
    "from keras.utils import to_categorical, pad_sequences"
   ]
  },
  {
   "cell_type": "code",
   "execution_count": 5,
   "id": "4c4ba47d-d39b-4c6c-971f-4b0ea1a1da19",
   "metadata": {},
   "outputs": [],
   "source": [
    "num_words=10000\n",
    "max_length=20\n"
   ]
  },
  {
   "cell_type": "code",
   "execution_count": 6,
   "id": "75c35e19-c153-47ce-82ce-00028f250d94",
   "metadata": {},
   "outputs": [
    {
     "name": "stdout",
     "output_type": "stream",
     "text": [
      "Downloading data from https://storage.googleapis.com/tensorflow/tf-keras-datasets/imdb.npz\n",
      "\u001b[1m17464789/17464789\u001b[0m \u001b[32m━━━━━━━━━━━━━━━━━━━━\u001b[0m\u001b[37m\u001b[0m \u001b[1m11s\u001b[0m 1us/step\n"
     ]
    }
   ],
   "source": [
    "(xtrain,ytrain),(xtest,ytest)= imdb.load_data(num_words=num_words)"
   ]
  },
  {
   "cell_type": "code",
   "execution_count": 7,
   "id": "5486a86e-d11f-4c05-a000-8aaeca1da496",
   "metadata": {},
   "outputs": [],
   "source": [
    "xtrain,xtest = pad_sequences(xtrain,maxlen=max_length),pad_sequences(xtest,maxlen= max_length)"
   ]
  },
  {
   "cell_type": "code",
   "execution_count": 9,
   "id": "15a2de78-8db9-4609-b232-bff5bb767276",
   "metadata": {},
   "outputs": [
    {
     "data": {
      "text/plain": [
       "(25000, 20)"
      ]
     },
     "execution_count": 9,
     "metadata": {},
     "output_type": "execute_result"
    }
   ],
   "source": [
    "xtrain.shape"
   ]
  },
  {
   "cell_type": "code",
   "execution_count": 14,
   "id": "c5a36c17-ed60-4f40-805d-f51f33cf3db0",
   "metadata": {},
   "outputs": [],
   "source": [
    "model1 = models.Sequential([\n",
    "    layers.Embedding(input_dim = num_words, output_dim= 128, input_length = max_length),\n",
    "    LSTM(128),\n",
    "    layers.Dense(1,activation='sigmoid')])"
   ]
  },
  {
   "cell_type": "code",
   "execution_count": 20,
   "id": "84e917c4-6e0e-4417-89e8-02d4545ce3d9",
   "metadata": {},
   "outputs": [],
   "source": [
    "model1.compile(\n",
    "    optimizer='adam',\n",
    "    loss= 'binary_crossentropy',\n",
    "    metrics =['accuracy'])"
   ]
  },
  {
   "cell_type": "code",
   "execution_count": 21,
   "id": "a46ccf31-d781-4683-bd17-67c57fcdc9cd",
   "metadata": {},
   "outputs": [
    {
     "name": "stdout",
     "output_type": "stream",
     "text": [
      "Epoch 1/5\n",
      "\u001b[1m313/313\u001b[0m \u001b[32m━━━━━━━━━━━━━━━━━━━━\u001b[0m\u001b[37m\u001b[0m \u001b[1m25s\u001b[0m 54ms/step - accuracy: 0.6672 - loss: 0.5893 - val_accuracy: 0.7536 - val_loss: 0.4850\n",
      "Epoch 2/5\n",
      "\u001b[1m313/313\u001b[0m \u001b[32m━━━━━━━━━━━━━━━━━━━━\u001b[0m\u001b[37m\u001b[0m \u001b[1m16s\u001b[0m 51ms/step - accuracy: 0.8252 - loss: 0.3813 - val_accuracy: 0.7504 - val_loss: 0.5042\n",
      "Epoch 3/5\n",
      "\u001b[1m313/313\u001b[0m \u001b[32m━━━━━━━━━━━━━━━━━━━━\u001b[0m\u001b[37m\u001b[0m \u001b[1m16s\u001b[0m 51ms/step - accuracy: 0.8722 - loss: 0.2990 - val_accuracy: 0.7434 - val_loss: 0.5589\n",
      "Epoch 4/5\n",
      "\u001b[1m313/313\u001b[0m \u001b[32m━━━━━━━━━━━━━━━━━━━━\u001b[0m\u001b[37m\u001b[0m \u001b[1m16s\u001b[0m 50ms/step - accuracy: 0.9120 - loss: 0.2196 - val_accuracy: 0.7304 - val_loss: 0.6740\n",
      "Epoch 5/5\n",
      "\u001b[1m313/313\u001b[0m \u001b[32m━━━━━━━━━━━━━━━━━━━━\u001b[0m\u001b[37m\u001b[0m \u001b[1m16s\u001b[0m 49ms/step - accuracy: 0.9410 - loss: 0.1526 - val_accuracy: 0.7324 - val_loss: 0.9069\n"
     ]
    },
    {
     "data": {
      "text/plain": [
       "<keras.src.callbacks.history.History at 0x2130c89f1d0>"
      ]
     },
     "execution_count": 21,
     "metadata": {},
     "output_type": "execute_result"
    }
   ],
   "source": [
    "model1.fit(xtrain,ytrain,epochs=5,batch_size=64,validation_split=0.2)"
   ]
  },
  {
   "cell_type": "code",
   "execution_count": 22,
   "id": "455138fc-8a80-416e-ac33-92eb6a921320",
   "metadata": {},
   "outputs": [
    {
     "name": "stdout",
     "output_type": "stream",
     "text": [
      "\u001b[1m1/1\u001b[0m \u001b[32m━━━━━━━━━━━━━━━━━━━━\u001b[0m\u001b[37m\u001b[0m \u001b[1m1s\u001b[0m 657ms/step\n"
     ]
    }
   ],
   "source": [
    "sample_test= np.reshape(xtest[1],(1,-1))\n",
    "pred = model1.predict(sample_test)[0]"
   ]
  },
  {
   "cell_type": "code",
   "execution_count": 23,
   "id": "37e5dade-ba46-41af-a864-65a19caa129b",
   "metadata": {},
   "outputs": [
    {
     "name": "stdout",
     "output_type": "stream",
     "text": [
      "pos\n"
     ]
    }
   ],
   "source": [
    "if pred > 0.5:\n",
    "    print('pos')\n",
    "else:\n",
    "    print('neg')"
   ]
  },
  {
   "cell_type": "code",
   "execution_count": 24,
   "id": "ab8b9bab-6486-4b0c-98e8-af4c49ba334f",
   "metadata": {},
   "outputs": [
    {
     "name": "stdout",
     "output_type": "stream",
     "text": [
      "[0.99893636]\n"
     ]
    }
   ],
   "source": [
    "print(pred)"
   ]
  },
  {
   "cell_type": "code",
   "execution_count": null,
   "id": "2a13e4b2-e10a-443d-a74a-ea2f1c359cb6",
   "metadata": {},
   "outputs": [],
   "source": []
  }
 ],
 "metadata": {
  "kernelspec": {
   "display_name": "Python 3 (ipykernel)",
   "language": "python",
   "name": "python3"
  },
  "language_info": {
   "codemirror_mode": {
    "name": "ipython",
    "version": 3
   },
   "file_extension": ".py",
   "mimetype": "text/x-python",
   "name": "python",
   "nbconvert_exporter": "python",
   "pygments_lexer": "ipython3",
   "version": "3.11.7"
  }
 },
 "nbformat": 4,
 "nbformat_minor": 5
}
