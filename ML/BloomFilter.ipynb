{
 "cells": [
  {
   "cell_type": "code",
   "execution_count": 1,
   "id": "d7561e91-5c66-4ef9-bb67-d003dc7ae5f1",
   "metadata": {},
   "outputs": [],
   "source": [
    "import hashlib"
   ]
  },
  {
   "cell_type": "code",
   "execution_count": 8,
   "id": "f0c9b492-ee07-4c8c-899c-0de126c5595d",
   "metadata": {},
   "outputs": [],
   "source": [
    "class BloomFilter:\n",
    "    def __init__(self,size,hash_count):\n",
    "        self.size=size\n",
    "        self.hash_count= hash_count\n",
    "        self.bit_array=[0]*size\n",
    "\n",
    "    def add(self,item):\n",
    "        for i in range(self.hash_count):\n",
    "            digest= hashlib.sha256(item.encode(encoding='utf-8')).hexdigest()\n",
    "            position= int(digest,16)%self.size\n",
    "            self.bit_array[position]=1\n",
    "    def check(self,item):\n",
    "        for i in range(self.hash_count):\n",
    "            digest = hashlib.sha256(item.encode(encoding='utf-8')).hexdigest()\n",
    "            position = int(digest, 16) % self.size\n",
    "            if self.bit_array[position] == 0:\n",
    "                return False\n",
    "        return True\n",
    "    \n",
    "        "
   ]
  },
  {
   "cell_type": "code",
   "execution_count": 9,
   "id": "f9203a2d-9843-4756-b642-015a3554fd93",
   "metadata": {},
   "outputs": [],
   "source": [
    "bloom = BloomFilter(size=1000, hash_count=3)\n"
   ]
  },
  {
   "cell_type": "code",
   "execution_count": 10,
   "id": "b43f377c-1f55-46e0-a522-7a366ac6f0c3",
   "metadata": {},
   "outputs": [],
   "source": [
    "bloom.add(\"apple\")\n",
    "bloom.add(\"banana\")\n",
    "bloom.add(\"cherry\")\n",
    "\n"
   ]
  },
  {
   "cell_type": "code",
   "execution_count": null,
   "id": "777b0375-e4b8-4bf2-8cca-e9b68057d090",
   "metadata": {},
   "outputs": [
    {
     "name": "stdout",
     "output_type": "stream",
     "text": [
      "True\n",
      "True\n",
      "True\n",
      "False\n"
     ]
    }
   ],
   "source": [
    "print(bloom.check(\"apple\"))  \n",
    "print(bloom.check(\"banana\"))  \n",
    "print(bloom.check(\"cherry\"))  \n",
    "print(bloom.check(\"date\"))    "
   ]
  },
  {
   "cell_type": "code",
   "execution_count": null,
   "id": "7b1490d3-a605-43a5-b570-ef33a4e6cae1",
   "metadata": {},
   "outputs": [],
   "source": []
  },
  {
   "cell_type": "code",
   "execution_count": null,
   "id": "86b4b507",
   "metadata": {},
   "outputs": [],
   "source": []
  },
  {
   "cell_type": "code",
   "execution_count": null,
   "id": "a431e3e6",
   "metadata": {},
   "outputs": [],
   "source": [
    "\n",
    "bloom.add(\"date\")\n",
    "bloom.add(\"elderberry\")\n",
    "\n",
    "print(bloom.check(\"date\"))        \n",
    "print(bloom.check(\"elderberry\")) \n",
    "print(bloom.check(\"fig\"))         "
   ]
  }
 ],
 "metadata": {
  "kernelspec": {
   "display_name": "Python 3 (ipykernel)",
   "language": "python",
   "name": "python3"
  },
  "language_info": {
   "codemirror_mode": {
    "name": "ipython",
    "version": 3
   },
   "file_extension": ".py",
   "mimetype": "text/x-python",
   "name": "python",
   "nbconvert_exporter": "python",
   "pygments_lexer": "ipython3",
   "version": "3.11.7"
  }
 },
 "nbformat": 4,
 "nbformat_minor": 5
}
