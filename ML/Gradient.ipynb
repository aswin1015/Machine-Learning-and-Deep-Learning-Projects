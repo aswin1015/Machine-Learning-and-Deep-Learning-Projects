{
 "cells": [
  {
   "cell_type": "code",
   "execution_count": 1,
   "id": "c610a115-28cf-4c97-befd-7b0072dc3b90",
   "metadata": {},
   "outputs": [],
   "source": [
    "import numpy as np"
   ]
  },
  {
   "cell_type": "code",
   "execution_count": 2,
   "id": "24a8e94c-c955-441c-a2c4-d26e539b6cfc",
   "metadata": {},
   "outputs": [],
   "source": [
    "def predict(x, w, b):\n",
    "    return w * x + b"
   ]
  },
  {
   "cell_type": "code",
   "execution_count": 3,
   "id": "6b8c3053-3c5f-4c9c-9287-c9c431c366d3",
   "metadata": {},
   "outputs": [],
   "source": [
    "def compute_cost(X, y, w, b):\n",
    "    m = len(y)\n",
    "    cost = np.sum((predict(X, w, b) - y) ** 2) / (2 * m)\n",
    "    return cost"
   ]
  },
  {
   "cell_type": "code",
   "execution_count": 4,
   "id": "40caa2c5-8513-48c0-b961-b4571d883e79",
   "metadata": {},
   "outputs": [],
   "source": [
    "def gradient_descent(X, y, w, b, alpha, num_iters):\n",
    "    m = len(y)\n",
    "    for i in range(num_iters):\n",
    "        # Compute the gradients\n",
    "        dj_dw = np.sum((predict(X, w, b) - y) * X) / m\n",
    "        dj_db = np.sum(predict(X, w, b) - y) / m\n",
    "\n",
    "        # Update the parameters\n",
    "        w = w - alpha * dj_dw\n",
    "        b = b - alpha * dj_db\n",
    "\n",
    "        # Optionally, print the cost for every 100 iterations\n",
    "        if i % 100 == 0:\n",
    "            cost = compute_cost(X, y, w, b)\n",
    "            print(f\"Iteration {i}: Cost {cost:.4f}, w: {w:.4f}, b: {b:.4f}\")\n",
    "\n",
    "    return w, b"
   ]
  },
  {
   "cell_type": "code",
   "execution_count": 6,
   "id": "511db89b-e138-41ac-bc63-aac502c5ee0d",
   "metadata": {},
   "outputs": [
    {
     "name": "stdout",
     "output_type": "stream",
     "text": [
      "Iteration 0: Cost 34.6963, w: 0.3100, b: 0.0900\n",
      "Iteration 100: Cost 0.3337, w: 2.5304, b: 1.0851\n",
      "Iteration 200: Cost 0.2379, w: 2.4478, b: 1.3832\n",
      "Iteration 300: Cost 0.1696, w: 2.3781, b: 1.6348\n",
      "Iteration 400: Cost 0.1209, w: 2.3193, b: 1.8473\n",
      "Iteration 500: Cost 0.0862, w: 2.2696, b: 2.0267\n",
      "Iteration 600: Cost 0.0615, w: 2.2276, b: 2.1782\n",
      "Iteration 700: Cost 0.0438, w: 2.1922, b: 2.3061\n",
      "Iteration 800: Cost 0.0312, w: 2.1623, b: 2.4141\n",
      "Iteration 900: Cost 0.0223, w: 2.1370, b: 2.5053\n",
      "Final parameters: w: 2.1159, b: 2.5816\n"
     ]
    }
   ],
   "source": [
    "X = np.array([1, 2, 3, 4, 5])\n",
    "y = np.array([5, 7, 9, 11, 13])\n",
    "\n",
    "    \n",
    "w_init = 0.0  \n",
    "b_init = 0.0  \n",
    "alpha = 0.01\n",
    "iterations = 1000\n",
    "\n",
    "    # Perform gradient descent\n",
    "w_final, b_final = gradient_descent(X, y, w_init, b_init, alpha, iterations)\n",
    "\n",
    "print(f\"Final parameters: w: {w_final:.4f}, b: {b_final:.4f}\")"
   ]
  },
  {
   "cell_type": "code",
   "execution_count": null,
   "id": "487da4c8-557d-4ff9-a58d-6847c2a37d63",
   "metadata": {},
   "outputs": [],
   "source": []
  }
 ],
 "metadata": {
  "kernelspec": {
   "display_name": "Python 3 (ipykernel)",
   "language": "python",
   "name": "python3"
  },
  "language_info": {
   "codemirror_mode": {
    "name": "ipython",
    "version": 3
   },
   "file_extension": ".py",
   "mimetype": "text/x-python",
   "name": "python",
   "nbconvert_exporter": "python",
   "pygments_lexer": "ipython3",
   "version": "3.11.7"
  }
 },
 "nbformat": 4,
 "nbformat_minor": 5
}
