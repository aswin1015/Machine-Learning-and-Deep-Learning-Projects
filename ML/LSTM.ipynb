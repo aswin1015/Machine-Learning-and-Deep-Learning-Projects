{
 "cells": [
  {
   "cell_type": "code",
   "execution_count": 1,
   "id": "468dae64-42b4-478a-82bc-43107f52659d",
   "metadata": {},
   "outputs": [],
   "source": [
    "import tensorflow as tf\n",
    "from keras import models, layers\n",
    "from keras.datasets import imdb\n",
    "from keras.utils import pad_sequences"
   ]
  },
  {
   "cell_type": "code",
   "execution_count": 2,
   "id": "67579a99-ec8c-47d2-bc99-73c34c3e8c48",
   "metadata": {},
   "outputs": [],
   "source": [
    "numwords= 10000\n",
    "maxlength=200"
   ]
  },
  {
   "cell_type": "code",
   "execution_count": 3,
   "id": "7c36be14-da16-424d-918b-1adec78b1624",
   "metadata": {},
   "outputs": [],
   "source": [
    "(xtrain,ytrain),(xtest,ytest) = imdb.load_data(num_words=numwords)"
   ]
  },
  {
   "cell_type": "code",
   "execution_count": 4,
   "id": "df8299be-9203-49f6-9630-48216cc58bcd",
   "metadata": {},
   "outputs": [],
   "source": [
    "xtrain,xtest= pad_sequences(xtrain, maxlen= maxlength), pad_sequences(xtest, maxlen= maxlength)"
   ]
  },
  {
   "cell_type": "code",
   "execution_count": 5,
   "id": "447cdb5c-0264-483f-b58c-79df7198e6a6",
   "metadata": {},
   "outputs": [
    {
     "data": {
      "text/plain": [
       "(25000, 200)"
      ]
     },
     "execution_count": 5,
     "metadata": {},
     "output_type": "execute_result"
    }
   ],
   "source": [
    "xtrain.shape"
   ]
  },
  {
   "cell_type": "code",
   "execution_count": 6,
   "id": "c1f77369-f95a-4419-80a5-2725fa68c3b4",
   "metadata": {},
   "outputs": [
    {
     "data": {
      "text/plain": [
       "(25000, 200)"
      ]
     },
     "execution_count": 6,
     "metadata": {},
     "output_type": "execute_result"
    }
   ],
   "source": [
    "xtest.shape"
   ]
  },
  {
   "cell_type": "code",
   "execution_count": null,
   "id": "7d7eabff-2006-4ef4-935f-2123ad0b604e",
   "metadata": {},
   "outputs": [],
   "source": []
  },
  {
   "cell_type": "code",
   "execution_count": 7,
   "id": "fd203fa1-0248-4285-8c11-36d7ecfce21c",
   "metadata": {},
   "outputs": [
    {
     "name": "stderr",
     "output_type": "stream",
     "text": [
      "C:\\Users\\aswin\\anaconda3\\Lib\\site-packages\\keras\\src\\layers\\core\\embedding.py:90: UserWarning: Argument `input_length` is deprecated. Just remove it.\n",
      "  warnings.warn(\n"
     ]
    }
   ],
   "source": [
    "model = models.Sequential([\n",
    "    layers.Embedding(input_dim= numwords, output_dim= 128, input_length = maxlength),\n",
    "    layers.LSTM(128),\n",
    "    layers.Dense(1,activation='sigmoid')]\n",
    ")"
   ]
  },
  {
   "cell_type": "code",
   "execution_count": 8,
   "id": "74403ece-c68a-470a-8c0d-608de34e7087",
   "metadata": {},
   "outputs": [],
   "source": [
    "model.compile(\n",
    "    optimizer='adam',\n",
    "    loss='binary_crossentropy',\n",
    "    metrics=['accuracy']\n",
    ")"
   ]
  },
  {
   "cell_type": "code",
   "execution_count": 9,
   "id": "c6c0076d-9ce8-46b3-8537-195a13504a3a",
   "metadata": {},
   "outputs": [
    {
     "name": "stdout",
     "output_type": "stream",
     "text": [
      "Epoch 1/5\n",
      "\u001b[1m313/313\u001b[0m \u001b[32m━━━━━━━━━━━━━━━━━━━━\u001b[0m\u001b[37m\u001b[0m \u001b[1m120s\u001b[0m 369ms/step - accuracy: 0.6929 - loss: 0.5625 - val_accuracy: 0.8448 - val_loss: 0.3652\n",
      "Epoch 2/5\n",
      "\u001b[1m313/313\u001b[0m \u001b[32m━━━━━━━━━━━━━━━━━━━━\u001b[0m\u001b[37m\u001b[0m \u001b[1m105s\u001b[0m 334ms/step - accuracy: 0.8834 - loss: 0.2877 - val_accuracy: 0.8682 - val_loss: 0.3055\n",
      "Epoch 3/5\n",
      "\u001b[1m313/313\u001b[0m \u001b[32m━━━━━━━━━━━━━━━━━━━━\u001b[0m\u001b[37m\u001b[0m \u001b[1m105s\u001b[0m 336ms/step - accuracy: 0.9334 - loss: 0.1817 - val_accuracy: 0.8730 - val_loss: 0.3264\n",
      "Epoch 4/5\n",
      "\u001b[1m313/313\u001b[0m \u001b[32m━━━━━━━━━━━━━━━━━━━━\u001b[0m\u001b[37m\u001b[0m \u001b[1m113s\u001b[0m 361ms/step - accuracy: 0.9548 - loss: 0.1284 - val_accuracy: 0.8580 - val_loss: 0.3803\n",
      "Epoch 5/5\n",
      "\u001b[1m313/313\u001b[0m \u001b[32m━━━━━━━━━━━━━━━━━━━━\u001b[0m\u001b[37m\u001b[0m \u001b[1m114s\u001b[0m 363ms/step - accuracy: 0.9719 - loss: 0.0835 - val_accuracy: 0.8384 - val_loss: 0.4389\n"
     ]
    }
   ],
   "source": [
    "history=model.fit(xtrain,ytrain,epochs=5,batch_size=64, validation_split=0.2)"
   ]
  },
  {
   "cell_type": "code",
   "execution_count": null,
   "id": "edfb82cf",
   "metadata": {},
   "outputs": [],
   "source": [
    "import numpy as np\n",
    "\n",
    "sample = np.reshape(xtrain[1], (1, -1))\n",
    "pred = model.predict(sample)[0][0]\n",
    "print(pred)"
   ]
  }
 ],
 "metadata": {
  "kernelspec": {
   "display_name": "Python 3 (ipykernel)",
   "language": "python",
   "name": "python3"
  },
  "language_info": {
   "codemirror_mode": {
    "name": "ipython",
    "version": 3
   },
   "file_extension": ".py",
   "mimetype": "text/x-python",
   "name": "python",
   "nbconvert_exporter": "python",
   "pygments_lexer": "ipython3",
   "version": "3.11.7"
  }
 },
 "nbformat": 4,
 "nbformat_minor": 5
}
