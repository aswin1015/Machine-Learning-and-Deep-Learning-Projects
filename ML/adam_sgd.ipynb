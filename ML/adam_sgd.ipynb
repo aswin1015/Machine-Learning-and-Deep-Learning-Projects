{
 "cells": [
  {
   "cell_type": "code",
   "execution_count": 1,
   "id": "ec749ad9-b61a-4efb-b2eb-b76f94c86203",
   "metadata": {},
   "outputs": [],
   "source": [
    "import tensorflow as tf\n",
    "from keras import models,layers\n",
    "from keras.datasets import cifar10\n",
    "from keras.utils import to_categorical\n"
   ]
  },
  {
   "cell_type": "code",
   "execution_count": 2,
   "id": "b1c6bf0b-3b3b-45a9-92f5-c561b6e22abe",
   "metadata": {},
   "outputs": [],
   "source": [
    "(xtrain,ytrain),(xtest,ytest)= cifar10.load_data()"
   ]
  },
  {
   "cell_type": "code",
   "execution_count": 3,
   "id": "16ce736b-b30a-471c-9cc7-d66adafa8e18",
   "metadata": {},
   "outputs": [],
   "source": [
    "xtrain=xtrain/255\n",
    "xtest= xtest/255"
   ]
  },
  {
   "cell_type": "code",
   "execution_count": 16,
   "id": "7a4adf41-458e-47dc-8ea3-6b01cd74c127",
   "metadata": {},
   "outputs": [
    {
     "data": {
      "text/plain": [
       "(50000, 32, 32, 3)"
      ]
     },
     "execution_count": 16,
     "metadata": {},
     "output_type": "execute_result"
    }
   ],
   "source": [
    "xtrain.shape"
   ]
  },
  {
   "cell_type": "code",
   "execution_count": 4,
   "id": "bb68be80-945d-423f-a79b-f19eac83e079",
   "metadata": {},
   "outputs": [],
   "source": [
    "ytrain= to_categorical(ytrain,10)\n",
    "ytest=to_categorical(ytest,10)"
   ]
  },
  {
   "cell_type": "code",
   "execution_count": 5,
   "id": "287f0537-52de-4512-8b01-90847c8ca910",
   "metadata": {},
   "outputs": [],
   "source": [
    "model=models.Sequential()"
   ]
  },
  {
   "cell_type": "code",
   "execution_count": 6,
   "id": "8e100fdc-5162-4381-be52-57083883752e",
   "metadata": {},
   "outputs": [
    {
     "name": "stderr",
     "output_type": "stream",
     "text": [
      "C:\\Users\\aswin\\anaconda3\\Lib\\site-packages\\keras\\src\\layers\\reshaping\\flatten.py:37: UserWarning: Do not pass an `input_shape`/`input_dim` argument to a layer. When using Sequential models, prefer using an `Input(shape)` object as the first layer in the model instead.\n",
      "  super().__init__(**kwargs)\n"
     ]
    }
   ],
   "source": [
    "model.add(layers.Flatten(input_shape=(32,32,3)))\n",
    "model.add(layers.Dense(512,activation='relu'))\n",
    "model.add(layers.Dense(256,activation='relu'))\n",
    "model.add(layers.Dense(128,activation='relu'))\n",
    "model.add(layers.Dense(10,activation='softmax'))\n",
    "          "
   ]
  },
  {
   "cell_type": "code",
   "execution_count": 7,
   "id": "b74a5b48-1e55-459f-9cce-4724bd9c918b",
   "metadata": {},
   "outputs": [],
   "source": [
    "model.compile(\n",
    "    optimizer='adam',\n",
    "    loss='categorical_crossentropy',\n",
    "    metrics=['accuracy']\n",
    ")"
   ]
  },
  {
   "cell_type": "code",
   "execution_count": 8,
   "id": "925a0e2d-385c-418f-bc35-6b7e7d00431d",
   "metadata": {},
   "outputs": [
    {
     "name": "stdout",
     "output_type": "stream",
     "text": [
      "Epoch 1/15\n",
      "\u001b[1m1563/1563\u001b[0m \u001b[32m━━━━━━━━━━━━━━━━━━━━\u001b[0m\u001b[37m\u001b[0m \u001b[1m37s\u001b[0m 22ms/step - accuracy: 0.2760 - loss: 1.9904 - val_accuracy: 0.3630 - val_loss: 1.7237\n",
      "Epoch 2/15\n",
      "\u001b[1m1563/1563\u001b[0m \u001b[32m━━━━━━━━━━━━━━━━━━━━\u001b[0m\u001b[37m\u001b[0m \u001b[1m36s\u001b[0m 23ms/step - accuracy: 0.3855 - loss: 1.7058 - val_accuracy: 0.4070 - val_loss: 1.6486\n",
      "Epoch 3/15\n",
      "\u001b[1m1563/1563\u001b[0m \u001b[32m━━━━━━━━━━━━━━━━━━━━\u001b[0m\u001b[37m\u001b[0m \u001b[1m34s\u001b[0m 22ms/step - accuracy: 0.4234 - loss: 1.6055 - val_accuracy: 0.4246 - val_loss: 1.6200\n",
      "Epoch 4/15\n",
      "\u001b[1m1563/1563\u001b[0m \u001b[32m━━━━━━━━━━━━━━━━━━━━\u001b[0m\u001b[37m\u001b[0m \u001b[1m35s\u001b[0m 22ms/step - accuracy: 0.4394 - loss: 1.5557 - val_accuracy: 0.4553 - val_loss: 1.5092\n",
      "Epoch 5/15\n",
      "\u001b[1m1563/1563\u001b[0m \u001b[32m━━━━━━━━━━━━━━━━━━━━\u001b[0m\u001b[37m\u001b[0m \u001b[1m35s\u001b[0m 22ms/step - accuracy: 0.4668 - loss: 1.4972 - val_accuracy: 0.4500 - val_loss: 1.5348\n",
      "Epoch 6/15\n",
      "\u001b[1m1563/1563\u001b[0m \u001b[32m━━━━━━━━━━━━━━━━━━━━\u001b[0m\u001b[37m\u001b[0m \u001b[1m35s\u001b[0m 22ms/step - accuracy: 0.4764 - loss: 1.4592 - val_accuracy: 0.4652 - val_loss: 1.4969\n",
      "Epoch 7/15\n",
      "\u001b[1m1563/1563\u001b[0m \u001b[32m━━━━━━━━━━━━━━━━━━━━\u001b[0m\u001b[37m\u001b[0m \u001b[1m35s\u001b[0m 22ms/step - accuracy: 0.4849 - loss: 1.4371 - val_accuracy: 0.4777 - val_loss: 1.4582\n",
      "Epoch 8/15\n",
      "\u001b[1m1563/1563\u001b[0m \u001b[32m━━━━━━━━━━━━━━━━━━━━\u001b[0m\u001b[37m\u001b[0m \u001b[1m35s\u001b[0m 22ms/step - accuracy: 0.4967 - loss: 1.4054 - val_accuracy: 0.4677 - val_loss: 1.4920\n",
      "Epoch 9/15\n",
      "\u001b[1m1563/1563\u001b[0m \u001b[32m━━━━━━━━━━━━━━━━━━━━\u001b[0m\u001b[37m\u001b[0m \u001b[1m35s\u001b[0m 22ms/step - accuracy: 0.5002 - loss: 1.3897 - val_accuracy: 0.4863 - val_loss: 1.4596\n",
      "Epoch 10/15\n",
      "\u001b[1m1563/1563\u001b[0m \u001b[32m━━━━━━━━━━━━━━━━━━━━\u001b[0m\u001b[37m\u001b[0m \u001b[1m35s\u001b[0m 22ms/step - accuracy: 0.5134 - loss: 1.3538 - val_accuracy: 0.4794 - val_loss: 1.4792\n",
      "Epoch 11/15\n",
      "\u001b[1m1563/1563\u001b[0m \u001b[32m━━━━━━━━━━━━━━━━━━━━\u001b[0m\u001b[37m\u001b[0m \u001b[1m9225s\u001b[0m 6s/step - accuracy: 0.5194 - loss: 1.3386 - val_accuracy: 0.4654 - val_loss: 1.5215\n",
      "Epoch 12/15\n",
      "\u001b[1m1563/1563\u001b[0m \u001b[32m━━━━━━━━━━━━━━━━━━━━\u001b[0m\u001b[37m\u001b[0m \u001b[1m40s\u001b[0m 25ms/step - accuracy: 0.5295 - loss: 1.3181 - val_accuracy: 0.4986 - val_loss: 1.4361\n",
      "Epoch 13/15\n",
      "\u001b[1m1563/1563\u001b[0m \u001b[32m━━━━━━━━━━━━━━━━━━━━\u001b[0m\u001b[37m\u001b[0m \u001b[1m36s\u001b[0m 23ms/step - accuracy: 0.5356 - loss: 1.2893 - val_accuracy: 0.4839 - val_loss: 1.4915\n",
      "Epoch 14/15\n",
      "\u001b[1m1563/1563\u001b[0m \u001b[32m━━━━━━━━━━━━━━━━━━━━\u001b[0m\u001b[37m\u001b[0m \u001b[1m35s\u001b[0m 22ms/step - accuracy: 0.5408 - loss: 1.2745 - val_accuracy: 0.4754 - val_loss: 1.5164\n",
      "Epoch 15/15\n",
      "\u001b[1m1563/1563\u001b[0m \u001b[32m━━━━━━━━━━━━━━━━━━━━\u001b[0m\u001b[37m\u001b[0m \u001b[1m34s\u001b[0m 22ms/step - accuracy: 0.5431 - loss: 1.2604 - val_accuracy: 0.4905 - val_loss: 1.4729\n"
     ]
    }
   ],
   "source": [
    "history=model.fit(xtrain,ytrain,epochs=15,validation_data=(xtest,ytest))"
   ]
  },
  {
   "cell_type": "code",
   "execution_count": null,
   "id": "9822a855-88a6-4521-8d55-a61cd171faf8",
   "metadata": {},
   "outputs": [],
   "source": []
  },
  {
   "cell_type": "code",
   "execution_count": null,
   "id": "aa95ea14-a0f4-49aa-a1a0-b5cd3da730af",
   "metadata": {},
   "outputs": [],
   "source": []
  },
  {
   "cell_type": "code",
   "execution_count": null,
   "id": "e0f3e1bf-6c75-43b1-8ee5-8745bda43fa3",
   "metadata": {},
   "outputs": [],
   "source": []
  },
  {
   "cell_type": "code",
   "execution_count": 1,
   "id": "7ef909d6-a915-45f3-9bb0-0d10fae8f96c",
   "metadata": {},
   "outputs": [],
   "source": [
    "import tensorflow as tf\n",
    "from keras import models,layers\n",
    "from keras.datasets import cifar10\n",
    "from keras.utils import to_categorical"
   ]
  },
  {
   "cell_type": "code",
   "execution_count": 2,
   "id": "7f26fcf3-83b4-471f-899e-7b5266f892bd",
   "metadata": {},
   "outputs": [],
   "source": [
    "(xtrain,ytrain),(xtest,ytest) = cifar10.load_data()"
   ]
  },
  {
   "cell_type": "code",
   "execution_count": 3,
   "id": "f11ae0b6-027e-42b5-885a-ba601ca9b964",
   "metadata": {},
   "outputs": [],
   "source": [
    "xtrain = xtrain/255.0\n",
    "xtest= xtest/255.0\n"
   ]
  },
  {
   "cell_type": "code",
   "execution_count": 4,
   "id": "45f41a85-f34d-4f58-b2c9-99f4e1b21ab9",
   "metadata": {},
   "outputs": [],
   "source": [
    "ytrain = to_categorical(ytrain)\n",
    "ytest = to_categorical(ytest)"
   ]
  },
  {
   "cell_type": "code",
   "execution_count": 5,
   "id": "2488821a-da52-4285-96da-e1f24564a683",
   "metadata": {},
   "outputs": [
    {
     "name": "stderr",
     "output_type": "stream",
     "text": [
      "C:\\Users\\aswin\\anaconda3\\Lib\\site-packages\\keras\\src\\layers\\reshaping\\flatten.py:37: UserWarning: Do not pass an `input_shape`/`input_dim` argument to a layer. When using Sequential models, prefer using an `Input(shape)` object as the first layer in the model instead.\n",
      "  super().__init__(**kwargs)\n"
     ]
    }
   ],
   "source": [
    "model = models.Sequential()\n",
    "model.add(layers.Flatten(input_shape=(32,32,3)))\n",
    "model.add(layers.Dense(256,activation='relu',kernel_initializer='glorot_uniform'))\n",
    "model.add(layers.Dense(128, activation='relu',kernel_initializer='glorot_uniform'))\n",
    "model.add(layers.Dense(10,activation='softmax',kernel_initializer='glorot_uniform'))\n",
    "\n"
   ]
  },
  {
   "cell_type": "code",
   "execution_count": 6,
   "id": "2b7a2869-4f3a-4ad5-ba1b-be30e028517c",
   "metadata": {},
   "outputs": [],
   "source": [
    "from keras import optimizers\n",
    "sgd= optimizers.SGD(learning_rate=0.01, momentum=0.9)"
   ]
  },
  {
   "cell_type": "code",
   "execution_count": 7,
   "id": "6910ed9f-6f51-4152-b40f-e35c49f16b97",
   "metadata": {},
   "outputs": [],
   "source": [
    "model.compile(\n",
    "    optimizer= sgd,\n",
    "    loss= 'categorical_crossentropy',\n",
    "    metrics=['accuracy'])"
   ]
  },
  {
   "cell_type": "code",
   "execution_count": 8,
   "id": "134f7bba-94fa-4597-b663-1e455d2bce51",
   "metadata": {},
   "outputs": [
    {
     "name": "stdout",
     "output_type": "stream",
     "text": [
      "Epoch 1/5\n",
      "\u001b[1m1250/1250\u001b[0m \u001b[32m━━━━━━━━━━━━━━━━━━━━\u001b[0m\u001b[37m\u001b[0m \u001b[1m12s\u001b[0m 7ms/step - accuracy: 0.2647 - loss: 2.0026 - val_accuracy: 0.3431 - val_loss: 1.8121\n",
      "Epoch 2/5\n",
      "\u001b[1m1250/1250\u001b[0m \u001b[32m━━━━━━━━━━━━━━━━━━━━\u001b[0m\u001b[37m\u001b[0m \u001b[1m8s\u001b[0m 6ms/step - accuracy: 0.3599 - loss: 1.7709 - val_accuracy: 0.3369 - val_loss: 1.8260\n",
      "Epoch 3/5\n",
      "\u001b[1m1250/1250\u001b[0m \u001b[32m━━━━━━━━━━━━━━━━━━━━\u001b[0m\u001b[37m\u001b[0m \u001b[1m8s\u001b[0m 7ms/step - accuracy: 0.3888 - loss: 1.6973 - val_accuracy: 0.4140 - val_loss: 1.6243\n",
      "Epoch 4/5\n",
      "\u001b[1m1250/1250\u001b[0m \u001b[32m━━━━━━━━━━━━━━━━━━━━\u001b[0m\u001b[37m\u001b[0m \u001b[1m9s\u001b[0m 7ms/step - accuracy: 0.4157 - loss: 1.6203 - val_accuracy: 0.4043 - val_loss: 1.6894\n",
      "Epoch 5/5\n",
      "\u001b[1m1250/1250\u001b[0m \u001b[32m━━━━━━━━━━━━━━━━━━━━\u001b[0m\u001b[37m\u001b[0m \u001b[1m9s\u001b[0m 7ms/step - accuracy: 0.4249 - loss: 1.5963 - val_accuracy: 0.4127 - val_loss: 1.6633\n"
     ]
    }
   ],
   "source": [
    "history1=model.fit(xtrain,ytrain,epochs=5,batch_size=32,validation_split=0.2)"
   ]
  },
  {
   "cell_type": "code",
   "execution_count": 12,
   "id": "54832077-e1bf-4f30-9446-f2442b1d58f7",
   "metadata": {},
   "outputs": [],
   "source": [
    "model2= models.Sequential()\n",
    "model2.add(layers.Flatten(input_shape=(32,32,3)))\n",
    "model2.add(layers.Dense(256,activation='relu',kernel_initializer='he_normal'))\n",
    "model2.add(layers.Dropout(0.25))\n",
    "model2.add(layers.Dense(128,activation='relu'))\n",
    "model2.add(layers.Dense(10,activation='softmax'))"
   ]
  },
  {
   "cell_type": "code",
   "execution_count": 13,
   "id": "8658feae-a749-41d0-bda6-e2ea0b3188ef",
   "metadata": {},
   "outputs": [],
   "source": [
    "from keras import optimizers\n",
    "sgd= optimizers.SGD(learning_rate=0.01, momentum=0.9)\n",
    "model2.compile(\n",
    "    optimizer= sgd,\n",
    "    loss= 'categorical_crossentropy',\n",
    "    metrics=['accuracy'])"
   ]
  },
  {
   "cell_type": "code",
   "execution_count": 14,
   "id": "6620b970-f117-4ed0-9a22-6f9d7b768da7",
   "metadata": {},
   "outputs": [
    {
     "name": "stdout",
     "output_type": "stream",
     "text": [
      "Epoch 1/5\n",
      "\u001b[1m1250/1250\u001b[0m \u001b[32m━━━━━━━━━━━━━━━━━━━━\u001b[0m\u001b[37m\u001b[0m \u001b[1m10s\u001b[0m 7ms/step - accuracy: 0.2196 - loss: 2.0899 - val_accuracy: 0.2966 - val_loss: 1.8856\n",
      "Epoch 2/5\n",
      "\u001b[1m1250/1250\u001b[0m \u001b[32m━━━━━━━━━━━━━━━━━━━━\u001b[0m\u001b[37m\u001b[0m \u001b[1m9s\u001b[0m 7ms/step - accuracy: 0.2912 - loss: 1.9191 - val_accuracy: 0.3320 - val_loss: 1.8411\n",
      "Epoch 3/5\n",
      "\u001b[1m1250/1250\u001b[0m \u001b[32m━━━━━━━━━━━━━━━━━━━━\u001b[0m\u001b[37m\u001b[0m \u001b[1m9s\u001b[0m 8ms/step - accuracy: 0.3121 - loss: 1.8635 - val_accuracy: 0.3615 - val_loss: 1.7638\n",
      "Epoch 4/5\n",
      "\u001b[1m1250/1250\u001b[0m \u001b[32m━━━━━━━━━━━━━━━━━━━━\u001b[0m\u001b[37m\u001b[0m \u001b[1m9s\u001b[0m 7ms/step - accuracy: 0.3397 - loss: 1.8099 - val_accuracy: 0.3685 - val_loss: 1.7696\n",
      "Epoch 5/5\n",
      "\u001b[1m1250/1250\u001b[0m \u001b[32m━━━━━━━━━━━━━━━━━━━━\u001b[0m\u001b[37m\u001b[0m \u001b[1m9s\u001b[0m 7ms/step - accuracy: 0.3512 - loss: 1.7836 - val_accuracy: 0.3528 - val_loss: 1.7711\n"
     ]
    },
    {
     "data": {
      "text/plain": [
       "<keras.src.callbacks.history.History at 0x19af5726c50>"
      ]
     },
     "execution_count": 14,
     "metadata": {},
     "output_type": "execute_result"
    }
   ],
   "source": [
    "model2.fit(xtrain,ytrain,epochs=5,batch_size=32,validation_split=0.2)"
   ]
  },
  {
   "cell_type": "code",
   "execution_count": 15,
   "id": "28f37ba1-6c70-471f-b498-ab80a7c66d57",
   "metadata": {},
   "outputs": [
    {
     "name": "stderr",
     "output_type": "stream",
     "text": [
      "C:\\Users\\aswin\\anaconda3\\Lib\\site-packages\\keras\\src\\layers\\reshaping\\flatten.py:37: UserWarning: Do not pass an `input_shape`/`input_dim` argument to a layer. When using Sequential models, prefer using an `Input(shape)` object as the first layer in the model instead.\n",
      "  super().__init__(**kwargs)\n"
     ]
    }
   ],
   "source": [
    "model3=models.Sequential()\n",
    "model3.add(layers.Flatten(input_shape=(32,32,3)))\n",
    "model3.add(layers.Dense(256,activation='relu'))\n",
    "model3.add(layers.BatchNormalization())\n",
    "model3.add(layers.Activation('relu'))\n",
    "model3.add(layers.Dense(10,activation='softmax'))\n"
   ]
  },
  {
   "cell_type": "code",
   "execution_count": null,
   "id": "da3dcc38-41f8-45c5-b0f3-0aeadc6d04ab",
   "metadata": {},
   "outputs": [],
   "source": [
    "model3.compile(\n",
    "    optimizer='adam',\n",
    "    loss='categorical_crossentropy',\n",
    "    metrics=['accuracy']\n",
    ")\n",
    "history3 = model3.fit(xtrain, ytrain, epochs=5, batch_size=32, validation_split=0.2)"
   ]
  },
  {
   "cell_type": "code",
   "execution_count": null,
   "id": "cb00cf4e",
   "metadata": {},
   "outputs": [],
   "source": [
    "\n",
    "score1 = model.evaluate(xtest, ytest, verbose=0)\n",
    "score2 = model2.evaluate(xtest, ytest, verbose=0)\n",
    "score3 = model3.evaluate(xtest, ytest, verbose=0)\n",
    "\n",
    "print(f\"Model 1 Test Accuracy: {score1[1]:.4f}\")\n",
    "print(f\"Model 2 Test Accuracy: {score2[1]:.4f}\")\n",
    "print(f\"Model 3 Test Accuracy: {score3[1]:.4f}\")"
   ]
  }
 ],
 "metadata": {
  "kernelspec": {
   "display_name": "Python 3 (ipykernel)",
   "language": "python",
   "name": "python3"
  },
  "language_info": {
   "codemirror_mode": {
    "name": "ipython",
    "version": 3
   },
   "file_extension": ".py",
   "mimetype": "text/x-python",
   "name": "python",
   "nbconvert_exporter": "python",
   "pygments_lexer": "ipython3",
   "version": "3.11.7"
  }
 },
 "nbformat": 4,
 "nbformat_minor": 5
}
